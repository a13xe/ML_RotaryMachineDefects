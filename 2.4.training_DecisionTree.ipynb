{
 "cells": [
  {
   "cell_type": "markdown",
   "metadata": {},
   "source": [
    "<font color='lime'>\n",
    "\n",
    "# Model training and parameter selection with Grid Search\n",
    "\n",
    "</font> "
   ]
  },
  {
   "cell_type": "markdown",
   "metadata": {},
   "source": [
    "<font color='yellow'>\n",
    "\n",
    "## Support Vector Machine (SVM)\n",
    "\n",
    "</font> "
   ]
  },
  {
   "cell_type": "markdown",
   "metadata": {},
   "source": [
    "<font color='orange'>\n",
    "\n",
    "### Load the data\n",
    "\n",
    "</font> "
   ]
  },
  {
   "cell_type": "code",
   "execution_count": null,
   "metadata": {},
   "outputs": [],
   "source": [
    "import pandas as pd\n",
    "\n",
    "file_path = 'data/spotify_songs_with_mood.csv'\n",
    "data = pd.read_csv(file_path)"
   ]
  },
  {
   "cell_type": "markdown",
   "metadata": {},
   "source": [
    "<font color='orange'>\n",
    "\n",
    "### Separate to subsets and train \n",
    "\n",
    "</font> "
   ]
  },
  {
   "cell_type": "code",
   "execution_count": null,
   "metadata": {},
   "outputs": [],
   "source": [
    "from sklearn.model_selection import train_test_split\n",
    "\n",
    "# We'll need to separate out the features (X) and the target variable (y)\n",
    "X = data.drop(['mood'], axis=1)  # all columns except 'mood'\n",
    "y = data['mood']  # the target variable\n",
    "\n",
    "# Split the dataset into training (70%) and testing (30%) sets\n",
    "X_train, X_test, y_train, y_test = train_test_split(X, y, test_size=0.3, random_state=42)\n",
    "\n",
    "# Shape of the training and testing data\n",
    "X_train.shape, X_test.shape, y_train.shape, y_test.shape"
   ]
  },
  {
   "cell_type": "markdown",
   "metadata": {},
   "source": [
    "<font color='orange'>\n",
    "\n",
    "### Run the algo\n",
    "\n",
    "</font> "
   ]
  },
  {
   "cell_type": "code",
   "execution_count": null,
   "metadata": {},
   "outputs": [],
   "source": [
    "from sklearn.tree import DecisionTreeClassifier\n",
    "from sklearn.model_selection import GridSearchCV\n",
    "from sklearn.metrics import accuracy_score\n",
    "\n",
    "# Identifying numerical and categorical columns (excluding 'track_id' which is unique and 'mood' which is the target)\n",
    "numerical_cols = X_train.select_dtypes(include=['float64', 'int64']).columns.tolist()\n",
    "categorical_cols = X_train.select_dtypes(include=['object']).columns.tolist()\n",
    "categorical_cols.remove('track_id')  # We exclude the track_id as it's a unique identifier\n",
    "\n",
    "# For simplicity, let's use only numerical features for training the Decision Tree model\n",
    "X_train_numerical = X_train[numerical_cols]\n",
    "X_test_numerical = X_test[numerical_cols]\n",
    "\n",
    "# Decision Tree model\n",
    "dt = DecisionTreeClassifier(random_state=42)\n",
    "\n",
    "# Parameters for GridSearchCV\n",
    "params = {\n",
    "    'max_depth': [10, 20, 30, None],\n",
    "    'min_samples_leaf': [1, 2, 4],\n",
    "    'min_samples_split': [2, 5, 10]\n",
    "}\n",
    "\n",
    "# Perform grid search with cross-validation\n",
    "grid_search = GridSearchCV(estimator=dt, param_grid=params, cv=5, n_jobs=-1, verbose=1)\n",
    "grid_search.fit(X_train_numerical, y_train)\n",
    "\n",
    "# Best parameters\n",
    "best_params = grid_search.best_params_\n",
    "best_params"
   ]
  },
  {
   "cell_type": "markdown",
   "metadata": {},
   "source": [
    "<font color='orange'>\n",
    "\n",
    "### Save and test\n",
    "\n",
    "</font> "
   ]
  },
  {
   "cell_type": "code",
   "execution_count": null,
   "metadata": {},
   "outputs": [],
   "source": [
    "# Train the model with the best parameters\n",
    "best_dt = DecisionTreeClassifier(**best_params, random_state=42)\n",
    "best_dt.fit(X_train_numerical, y_train)\n",
    "\n",
    "# Save the model\n",
    "import joblib\n",
    "\n",
    "model_filename = 'data/songs_mood_decision_tree_model.joblib'\n",
    "joblib.dump(best_dt, model_filename)\n",
    "\n",
    "# Predictions on the test set\n",
    "y_pred = best_dt.predict(X_test_numerical)\n",
    "\n",
    "# Calculate the accuracy\n",
    "accuracy = accuracy_score(y_test, y_pred)\n",
    "percent_accuracy = accuracy * 100  # convert to percent\n",
    "\n",
    "model_filename, percent_accuracy"
   ]
  },
  {
   "cell_type": "markdown",
   "metadata": {},
   "source": [
    "<font color='yellow'>\n",
    "\n",
    "## Model estimation\n",
    "\n",
    "</font> "
   ]
  },
  {
   "cell_type": "markdown",
   "metadata": {},
   "source": [
    "<font color='orange'>\n",
    "\n",
    "### Visualization of predicted values\n",
    "\n",
    "</font> "
   ]
  },
  {
   "cell_type": "code",
   "execution_count": null,
   "metadata": {},
   "outputs": [],
   "source": [
    "import matplotlib.pyplot as plt\n",
    "from sklearn.metrics import confusion_matrix, ConfusionMatrixDisplay\n",
    "\n",
    "# Generate confusion matrix\n",
    "cm = confusion_matrix(y_test, y_pred, labels=best_dt.classes_)\n",
    "disp = ConfusionMatrixDisplay(confusion_matrix=cm, display_labels=best_dt.classes_)\n",
    "\n",
    "# Plot the confusion matrix\n",
    "plt.figure(figsize=(10,10))\n",
    "disp.plot(cmap=plt.cm.Blues)\n",
    "plt.xticks(rotation=45)\n",
    "plt.title('Confusion Matrix for Predicted Mood Values')\n",
    "plt.show()"
   ]
  },
  {
   "cell_type": "markdown",
   "metadata": {},
   "source": [
    "<font color='orange'>\n",
    "\n",
    "### Visualization of the decision tree\n",
    "\n",
    "</font> "
   ]
  },
  {
   "cell_type": "code",
   "execution_count": null,
   "metadata": {},
   "outputs": [],
   "source": [
    "from sklearn.tree import plot_tree\n",
    "\n",
    "# Visualize the top levels of the Decision Tree\n",
    "plt.figure(figsize=(40,20))\n",
    "plot_tree(best_dt, filled=True, feature_names=numerical_cols, class_names=best_dt.classes_, max_depth=3)\n",
    "plt.title('Decision Tree Visualization (Top Levels)')\n",
    "plt.show()"
   ]
  }
 ],
 "metadata": {
  "kernelspec": {
   "display_name": "Python 3",
   "language": "python",
   "name": "python3"
  },
  "language_info": {
   "codemirror_mode": {
    "name": "ipython",
    "version": 3
   },
   "file_extension": ".py",
   "mimetype": "text/x-python",
   "name": "python",
   "nbconvert_exporter": "python",
   "pygments_lexer": "ipython3",
   "version": "3.12.0"
  }
 },
 "nbformat": 4,
 "nbformat_minor": 2
}
