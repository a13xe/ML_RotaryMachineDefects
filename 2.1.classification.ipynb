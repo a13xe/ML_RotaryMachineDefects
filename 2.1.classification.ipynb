{
 "cells": [
  {
   "cell_type": "markdown",
   "metadata": {},
   "source": [
    "<font color='lime'>\n",
    "\n",
    "# Classification\n",
    "\n",
    "</font> "
   ]
  },
  {
   "cell_type": "markdown",
   "metadata": {},
   "source": [
    "<font color='yellow'>\n",
    "\n",
    "## Load the dataset\n",
    "\n",
    "</font> "
   ]
  },
  {
   "cell_type": "code",
   "execution_count": null,
   "metadata": {},
   "outputs": [],
   "source": [
    "import pandas as pd\n",
    "\n",
    "# Load the dataset\n",
    "file_path = 'data/spotify_songs_cleaned.csv'\n",
    "spotify_data = pd.read_csv(file_path)"
   ]
  },
  {
   "cell_type": "markdown",
   "metadata": {},
   "source": [
    "<font color='yellow'>\n",
    "\n",
    "## Calculate percentiles\n",
    "\n",
    "</font> \n",
    "\n",
    "<font color='orange'>\n",
    "\n",
    "#### The random variable that does not exceed a fixed probability [.4, .5, .6]\n",
    "\n",
    "- Calm: if `energy` below the 40% and `acousticness` above 60%.\n",
    "\n",
    "- Energetic: if `energy` above the 60% and `danceability` above 50%.\n",
    "\n",
    "- Happy: if `valence` above the 50% and `danceability` above the 50%.\n",
    "\n",
    "- Neutral: if a songs didn't meet the criteria for `Calm`, `Energetic`, or `Happy`.\n",
    "\n",
    "</font> "
   ]
  },
  {
   "cell_type": "code",
   "execution_count": null,
   "metadata": {},
   "outputs": [],
   "source": [
    "# Determine the percentile values for energy, acousticness, danceability, and valence\n",
    "percentiles = spotify_data[['energy', 'acousticness', 'danceability', 'valence']].describe(percentiles=[.4, .5, .6])\n",
    "\n",
    "# Extracting the specific percentile values\n",
    "energy_40th = percentiles.loc['40%', 'energy']\n",
    "acousticness_60th = percentiles.loc['60%', 'acousticness']\n",
    "danceability_50th = percentiles.loc['50%', 'danceability']\n",
    "valence_50th = percentiles.loc['50%', 'valence']\n",
    "\n",
    "energy_40th, acousticness_60th, danceability_50th, valence_50th"
   ]
  },
  {
   "cell_type": "markdown",
   "metadata": {},
   "source": [
    "<font color='yellow'>\n",
    "\n",
    "## Create new column out of percentiles\n",
    "\n",
    "</font> "
   ]
  },
  {
   "cell_type": "code",
   "execution_count": null,
   "metadata": {},
   "outputs": [],
   "source": [
    "# Define a function to classify songs based on the given thresholds\n",
    "def classify_mood(row):\n",
    "    if row['energy'] < energy_40th and row['acousticness'] > acousticness_60th:\n",
    "        return 'Calm'\n",
    "    elif row['energy'] > energy_40th and row['danceability'] > danceability_50th:\n",
    "        return 'Energetic'\n",
    "    elif row['valence'] > valence_50th and row['danceability'] > danceability_50th:\n",
    "        return 'Happy'\n",
    "    else:\n",
    "        # If a song doesn't fit any of the above categories, we can classify it as 'Neutral' or any other default category\n",
    "        return 'Neutral'\n",
    "\n",
    "# Apply the function to the dataset to create a new 'mood' column\n",
    "spotify_data['mood'] = spotify_data.apply(classify_mood, axis=1)\n",
    "\n",
    "# Check the distribution of the moods\n",
    "mood_distribution = spotify_data['mood'].value_counts(normalize=True)\n",
    "mood_distribution, spotify_data[['energy', 'acousticness', 'danceability', 'valence', 'mood']].head()\n",
    "\n",
    "# Save cleaned subset to a CSV file\n",
    "file_path = \"data/spotify_songs_with_mood.csv\"\n",
    "spotify_data.to_csv(file_path, index=False)\n",
    "file_path"
   ]
  }
 ],
 "metadata": {
  "kernelspec": {
   "display_name": "Python 3",
   "language": "python",
   "name": "python3"
  },
  "language_info": {
   "codemirror_mode": {
    "name": "ipython",
    "version": 3
   },
   "file_extension": ".py",
   "mimetype": "text/x-python",
   "name": "python",
   "nbconvert_exporter": "python",
   "pygments_lexer": "ipython3",
   "version": "3.12.0"
  }
 },
 "nbformat": 4,
 "nbformat_minor": 2
}
