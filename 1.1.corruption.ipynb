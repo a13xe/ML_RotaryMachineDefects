{
 "cells": [
  {
   "cell_type": "markdown",
   "metadata": {},
   "source": [
    "<font color='lime'>\n",
    "\n",
    "# Data corruption\n",
    "\n",
    "</font> "
   ]
  },
  {
   "cell_type": "markdown",
   "metadata": {},
   "source": [
    "<font color='yellow'>\n",
    "\n",
    "##  Load dataset\n",
    "\n",
    "</font> "
   ]
  },
  {
   "cell_type": "code",
   "execution_count": null,
   "metadata": {},
   "outputs": [],
   "source": [
    "import pandas as pd\n",
    "\n",
    "data = pd.read_csv('data/spotify_songs.csv')\n",
    "\n",
    "data.head()"
   ]
  },
  {
   "cell_type": "markdown",
   "metadata": {},
   "source": [
    "<font color='yellow'>\n",
    "\n",
    "##  Process the initial data\n",
    "\n",
    "</font>"
   ]
  },
  {
   "cell_type": "markdown",
   "metadata": {},
   "source": [
    "<font color='orange'>\n",
    "\n",
    "- Corrupting 12% of the subset rows (introducing one empty cell)\n",
    "- Saving the result\n",
    "\n",
    "</font>"
   ]
  },
  {
   "cell_type": "code",
   "execution_count": null,
   "metadata": {},
   "outputs": [],
   "source": [
    "import numpy as np\n",
    "\n",
    "# Calculate the number of rows to corrupt\n",
    "num_rows_to_corrupt = int(0.12 * len(data))\n",
    "\n",
    "# Randomly select rows to corrupt\n",
    "rows_to_corrupt = np.random.choice(data.index, size=num_rows_to_corrupt, replace=False)\n",
    "\n",
    "# For each selected row, randomly select a non-integer column to set to NaN\n",
    "for row in rows_to_corrupt:\n",
    "    col_to_corrupt = np.random.choice(data.columns)\n",
    "    while data[col_to_corrupt].dtype == np.int64:\n",
    "        col_to_corrupt = np.random.choice(data.columns)\n",
    "    data.at[row, col_to_corrupt] = np.nan\n",
    "\n",
    "# Save the corrupted dataframe to a new CSV file\n",
    "corrupted_filename = \"data/spotify_songs_corrupted.csv\"\n",
    "data.to_csv(corrupted_filename, index=False)\n",
    "\n",
    "corrupted_filename"
   ]
  }
 ],
 "metadata": {
  "kernelspec": {
   "display_name": "Python 3",
   "language": "python",
   "name": "python3"
  },
  "language_info": {
   "codemirror_mode": {
    "name": "ipython",
    "version": 3
   },
   "file_extension": ".py",
   "mimetype": "text/x-python",
   "name": "python",
   "nbconvert_exporter": "python",
   "pygments_lexer": "ipython3",
   "version": "3.12.0"
  }
 },
 "nbformat": 4,
 "nbformat_minor": 2
}
