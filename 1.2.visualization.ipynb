{
 "cells": [
  {
   "cell_type": "markdown",
   "metadata": {},
   "source": [
    "<font color='lime'>\n",
    "\n",
    "# Data preparation and normalization\n",
    "\n",
    "</font> "
   ]
  },
  {
   "cell_type": "markdown",
   "metadata": {},
   "source": [
    "<font color='yellow'>\n",
    "\n",
    "## A. Visualization of significant features (scatter plots, whisker boxes, histograms)\n",
    "\n",
    "</font> "
   ]
  },
  {
   "cell_type": "markdown",
   "metadata": {},
   "source": [
    "<font color='orange'>\n",
    "\n",
    "###  Load dataset\n",
    "\n",
    "</font> "
   ]
  },
  {
   "cell_type": "code",
   "execution_count": null,
   "metadata": {},
   "outputs": [],
   "source": [
    "import pandas as pd\n",
    "\n",
    "data = pd.read_csv('data/spotify_songs_corrupted.csv')"
   ]
  },
  {
   "cell_type": "markdown",
   "metadata": {},
   "source": [
    "<font color='orange'>\n",
    "\n",
    "### Histogram for track_popularity\n",
    "\n",
    "</font> "
   ]
  },
  {
   "cell_type": "code",
   "execution_count": null,
   "metadata": {},
   "outputs": [],
   "source": [
    "import matplotlib.pyplot as plt\n",
    "import seaborn as sns\n",
    "\n",
    "# Set the style\n",
    "sns.set_style(\"whitegrid\")\n",
    "\n",
    "# Histogram for track_popularity\n",
    "plt.figure(figsize=(25, 10))  # Size for individual plot\n",
    "sns.histplot(data['track_popularity'], bins=20, kde=True)\n",
    "plt.title('Distribution of Track Popularity')\n",
    "plt.xlabel('Popularity')\n",
    "plt.ylabel('Count')\n",
    "plt.show()"
   ]
  },
  {
   "cell_type": "markdown",
   "metadata": {},
   "source": [
    "<font color='orange'>\n",
    "\n",
    "### Scatter diagram for the energy dependence of danceability\n",
    "\n",
    "</font> "
   ]
  },
  {
   "cell_type": "code",
   "execution_count": null,
   "metadata": {},
   "outputs": [],
   "source": [
    "# Scatter plot for danceability vs energy\n",
    "plt.figure(figsize=(25, 10))  # Size for individual plot\n",
    "sns.scatterplot(x='danceability', y='energy', data=data)\n",
    "plt.title('Danceability vs Energy')\n",
    "plt.xlabel('Danceability')\n",
    "plt.ylabel('Energy')\n",
    "plt.show()"
   ]
  },
  {
   "cell_type": "markdown",
   "metadata": {},
   "source": [
    "<font color='orange'>\n",
    "\n",
    "### Box plot for loudness\n",
    "\n",
    "</font> "
   ]
  },
  {
   "cell_type": "code",
   "execution_count": null,
   "metadata": {},
   "outputs": [],
   "source": [
    "# Box plot for loudness\n",
    "plt.figure(figsize=(25, 8))  # Size for individual plot\n",
    "sns.boxplot(x=data['loudness'])\n",
    "plt.title('Distribution of Loudness')\n",
    "plt.xlabel('Loudness')\n",
    "plt.show()"
   ]
  },
  {
   "cell_type": "markdown",
   "metadata": {},
   "source": [
    "<font color='yellow'>\n",
    "\n",
    "## B. Data cleaning\n",
    "\n",
    "</font>"
   ]
  },
  {
   "cell_type": "markdown",
   "metadata": {},
   "source": [
    "<font color='orange'>\n",
    "\n",
    "## Skip removal, normalization, duplicate removal\n",
    "\n",
    "</font>"
   ]
  },
  {
   "cell_type": "code",
   "execution_count": null,
   "metadata": {},
   "outputs": [],
   "source": [
    "import numpy as np\n",
    "\n",
    "# 1. Removing rows with missing values\n",
    "original_shape = data.shape\n",
    "data_cleaned = data.dropna()\n",
    "missing_rows_removed = original_shape[0] - data_cleaned.shape[0]\n",
    "print(f\"Removed {missing_rows_removed} rows with missing values.\")\n",
    "\n",
    "# 2. Normalizing numerical features (using Min-Max scaling for this demonstration)\n",
    "numerical_features = data_cleaned.select_dtypes(include=[np.number]).columns\n",
    "for feature in numerical_features:\n",
    "    min_value = data_cleaned[feature].min()\n",
    "    max_value = data_cleaned[feature].max()\n",
    "    data_cleaned.loc[:, feature] = (data_cleaned[feature] - min_value) / (max_value - min_value)\n",
    "print(\"Numerical features normalized.\")\n",
    "\n",
    "# 3. Removing duplicate rows\n",
    "rows_before = data_cleaned.shape[0]\n",
    "data_cleaned = data_cleaned.drop_duplicates()\n",
    "duplicates_removed = rows_before - data_cleaned.shape[0]\n",
    "print(f\"Removed {duplicates_removed} duplicate rows.\")\n",
    "\n",
    "# Display the shape of the original and cleaned dataframes to see the difference\n",
    "cleaned_shape = data_cleaned.shape\n",
    "\n",
    "print(f\"Original shape: {original_shape}\")\n",
    "print(f\"Cleaned shape: {cleaned_shape}\")\n",
    "\n",
    "# Save cleaned subset to a CSV file\n",
    "file_path = \"data/spotify_songs_cleaned.csv\"\n",
    "data_cleaned.to_csv(file_path, index=False)\n",
    "print(f\"Cleaned data saved to: {file_path}\")\n"
   ]
  },
  {
   "cell_type": "markdown",
   "metadata": {},
   "source": [
    "<font color='orange'>\n",
    "\n",
    "## Delete 0 values\n",
    "\n",
    "</font>"
   ]
  },
  {
   "cell_type": "code",
   "execution_count": null,
   "metadata": {},
   "outputs": [],
   "source": [
    "import pandas as pd\n",
    "import numpy as np\n",
    "import seaborn as sns\n",
    "import matplotlib.pyplot as plt\n",
    "\n",
    "# Assuming 'data' is a pandas DataFrame that has already been loaded.\n",
    "\n",
    "# Heatmap before removing zero values\n",
    "plt.figure(figsize=(10, 5))\n",
    "sns.heatmap(data.eq(0), cmap=\"viridis\", cbar=False)\n",
    "plt.title(\"Heatmap of Zero Values Before\")\n",
    "plt.savefig(\"heatmap_before.png\")\n",
    "plt.show()\n",
    "\n",
    "# Check for zero values and replace them with NaN\n",
    "data_no_zero = data.replace(0, np.nan)\n",
    "\n",
    "# Count the number of zero values (now NaNs) in each column\n",
    "zero_values_count = data_no_zero.isna().sum().sum()\n",
    "print(f\"Number of zero values in the dataset: {zero_values_count}\")\n",
    "\n",
    "# Removing rows with NaN values (which are the zero values we replaced)\n",
    "rows_before_removal = data_no_zero.shape[0]\n",
    "data_no_zero_cleaned = data_no_zero.dropna()\n",
    "rows_after_removal = data_no_zero_cleaned.shape[0]\n",
    "\n",
    "# Calculate how many rows were deleted\n",
    "rows_deleted = rows_before_removal - rows_after_removal\n",
    "print(f\"Rows deleted due to zero values: {rows_deleted}\")\n",
    "\n",
    "# Heatmap after removing zero values\n",
    "plt.figure(figsize=(10, 5))\n",
    "sns.heatmap(data_no_zero_cleaned.eq(0), cmap=\"viridis\", cbar=False)\n",
    "plt.title(\"Heatmap of Zero Values After\")\n",
    "plt.savefig(\"heatmap_after.png\")\n",
    "plt.show()\n",
    "\n",
    "# Save the dataset with zero values removed to a CSV file\n",
    "file_path_no_zeros = \"spotify_songs_no0.csv\"\n",
    "data_no_zero_cleaned.to_csv(file_path_no_zeros, index=False)\n",
    "print(f\"Data without zero values saved to: {file_path_no_zeros}\")"
   ]
  },
  {
   "cell_type": "markdown",
   "metadata": {},
   "source": [
    "<font color='yellow'>\n",
    "\n",
    "## C. Data correlation (correlation matrix)\n",
    "\n",
    "</font> "
   ]
  },
  {
   "cell_type": "code",
   "execution_count": null,
   "metadata": {},
   "outputs": [],
   "source": [
    "# Compute the correlation matrix\n",
    "correlation_matrix = data_cleaned[numerical_features].corr()\n",
    "\n",
    "# Plot the heatmap\n",
    "plt.figure(figsize=(15, 10))\n",
    "sns.heatmap(correlation_matrix, annot=True, cmap='coolwarm', vmin=-1, vmax=1, linewidths=.5)\n",
    "plt.title('Correlation Matrix of Numerical Features')\n",
    "plt.show()"
   ]
  }
 ],
 "metadata": {
  "kernelspec": {
   "display_name": "Python 3",
   "language": "python",
   "name": "python3"
  },
  "language_info": {
   "codemirror_mode": {
    "name": "ipython",
    "version": 3
   },
   "file_extension": ".py",
   "mimetype": "text/x-python",
   "name": "python",
   "nbconvert_exporter": "python",
   "pygments_lexer": "ipython3",
   "version": "3.12.0"
  }
 },
 "nbformat": 4,
 "nbformat_minor": 2
}
